{
 "cells": [
  {
   "cell_type": "code",
   "execution_count": 65,
   "metadata": {},
   "outputs": [],
   "source": [
    "import torch \n",
    "import torchvision\n",
    "from torchvision import transforms\n",
    "import torchvision.datasets as datasets\n",
    "import pandas as pd\n",
    "from matplotlib import pyplot as plt\n",
    "import numpy as np\n",
    "import os\n",
    "from glob import glob\n",
    "from PIL import Image"
   ]
  },
  {
   "cell_type": "markdown",
   "metadata": {},
   "source": [
    "### Data Loading"
   ]
  },
  {
   "cell_type": "markdown",
   "metadata": {},
   "source": [
    "Our dataset is the HAM1000 dataset, a large collection of multi-source dermatoscopic images of common pigmented skin legions. We accessed our data at [the Harvard Dataverse](https://dataverse.harvard.edu/dataset.xhtml?persistentId=doi:10.7910/DVN/DBW86T)."
   ]
  },
  {
   "cell_type": "code",
   "execution_count": 66,
   "metadata": {},
   "outputs": [
    {
     "data": {
      "text/html": [
       "<div>\n",
       "<style scoped>\n",
       "    .dataframe tbody tr th:only-of-type {\n",
       "        vertical-align: middle;\n",
       "    }\n",
       "\n",
       "    .dataframe tbody tr th {\n",
       "        vertical-align: top;\n",
       "    }\n",
       "\n",
       "    .dataframe thead th {\n",
       "        text-align: right;\n",
       "    }\n",
       "</style>\n",
       "<table border=\"1\" class=\"dataframe\">\n",
       "  <thead>\n",
       "    <tr style=\"text-align: right;\">\n",
       "      <th></th>\n",
       "      <th>lesion_id</th>\n",
       "      <th>image_id</th>\n",
       "      <th>dx</th>\n",
       "      <th>dx_type</th>\n",
       "      <th>age</th>\n",
       "      <th>sex</th>\n",
       "      <th>localization</th>\n",
       "      <th>dataset</th>\n",
       "    </tr>\n",
       "  </thead>\n",
       "  <tbody>\n",
       "    <tr>\n",
       "      <th>0</th>\n",
       "      <td>HAM_0000118</td>\n",
       "      <td>ISIC_0027419</td>\n",
       "      <td>bkl</td>\n",
       "      <td>histo</td>\n",
       "      <td>80.0</td>\n",
       "      <td>male</td>\n",
       "      <td>scalp</td>\n",
       "      <td>vidir_modern</td>\n",
       "    </tr>\n",
       "    <tr>\n",
       "      <th>1</th>\n",
       "      <td>HAM_0000118</td>\n",
       "      <td>ISIC_0025030</td>\n",
       "      <td>bkl</td>\n",
       "      <td>histo</td>\n",
       "      <td>80.0</td>\n",
       "      <td>male</td>\n",
       "      <td>scalp</td>\n",
       "      <td>vidir_modern</td>\n",
       "    </tr>\n",
       "    <tr>\n",
       "      <th>2</th>\n",
       "      <td>HAM_0002730</td>\n",
       "      <td>ISIC_0026769</td>\n",
       "      <td>bkl</td>\n",
       "      <td>histo</td>\n",
       "      <td>80.0</td>\n",
       "      <td>male</td>\n",
       "      <td>scalp</td>\n",
       "      <td>vidir_modern</td>\n",
       "    </tr>\n",
       "    <tr>\n",
       "      <th>3</th>\n",
       "      <td>HAM_0002730</td>\n",
       "      <td>ISIC_0025661</td>\n",
       "      <td>bkl</td>\n",
       "      <td>histo</td>\n",
       "      <td>80.0</td>\n",
       "      <td>male</td>\n",
       "      <td>scalp</td>\n",
       "      <td>vidir_modern</td>\n",
       "    </tr>\n",
       "    <tr>\n",
       "      <th>4</th>\n",
       "      <td>HAM_0001466</td>\n",
       "      <td>ISIC_0031633</td>\n",
       "      <td>bkl</td>\n",
       "      <td>histo</td>\n",
       "      <td>75.0</td>\n",
       "      <td>male</td>\n",
       "      <td>ear</td>\n",
       "      <td>vidir_modern</td>\n",
       "    </tr>\n",
       "  </tbody>\n",
       "</table>\n",
       "</div>"
      ],
      "text/plain": [
       "     lesion_id      image_id   dx dx_type   age   sex localization  \\\n",
       "0  HAM_0000118  ISIC_0027419  bkl   histo  80.0  male        scalp   \n",
       "1  HAM_0000118  ISIC_0025030  bkl   histo  80.0  male        scalp   \n",
       "2  HAM_0002730  ISIC_0026769  bkl   histo  80.0  male        scalp   \n",
       "3  HAM_0002730  ISIC_0025661  bkl   histo  80.0  male        scalp   \n",
       "4  HAM_0001466  ISIC_0031633  bkl   histo  75.0  male          ear   \n",
       "\n",
       "        dataset  \n",
       "0  vidir_modern  \n",
       "1  vidir_modern  \n",
       "2  vidir_modern  \n",
       "3  vidir_modern  \n",
       "4  vidir_modern  "
      ]
     },
     "execution_count": 66,
     "metadata": {},
     "output_type": "execute_result"
    }
   ],
   "source": [
    "df_data = pd.read_csv(\"HAM10000_metadata\")\n",
    "df_data.head()"
   ]
  },
  {
   "cell_type": "markdown",
   "metadata": {},
   "source": [
    "First, perform data preparation."
   ]
  },
  {
   "cell_type": "code",
   "execution_count": 67,
   "metadata": {},
   "outputs": [
    {
     "data": {
      "text/html": [
       "<div>\n",
       "<style scoped>\n",
       "    .dataframe tbody tr th:only-of-type {\n",
       "        vertical-align: middle;\n",
       "    }\n",
       "\n",
       "    .dataframe tbody tr th {\n",
       "        vertical-align: top;\n",
       "    }\n",
       "\n",
       "    .dataframe thead th {\n",
       "        text-align: right;\n",
       "    }\n",
       "</style>\n",
       "<table border=\"1\" class=\"dataframe\">\n",
       "  <thead>\n",
       "    <tr style=\"text-align: right;\">\n",
       "      <th></th>\n",
       "      <th>lesion_id</th>\n",
       "      <th>image_id</th>\n",
       "      <th>dx</th>\n",
       "      <th>dx_type</th>\n",
       "      <th>age</th>\n",
       "      <th>sex</th>\n",
       "      <th>localization</th>\n",
       "      <th>dataset</th>\n",
       "      <th>img_path</th>\n",
       "    </tr>\n",
       "  </thead>\n",
       "  <tbody>\n",
       "    <tr>\n",
       "      <th>1</th>\n",
       "      <td>HAM_0000118</td>\n",
       "      <td>ISIC_0025030</td>\n",
       "      <td>bkl</td>\n",
       "      <td>histo</td>\n",
       "      <td>80.0</td>\n",
       "      <td>male</td>\n",
       "      <td>scalp</td>\n",
       "      <td>vidir_modern</td>\n",
       "      <td>HAM10000_images_part_1/ISIC_0025030.jpg</td>\n",
       "    </tr>\n",
       "    <tr>\n",
       "      <th>2</th>\n",
       "      <td>HAM_0002730</td>\n",
       "      <td>ISIC_0026769</td>\n",
       "      <td>bkl</td>\n",
       "      <td>histo</td>\n",
       "      <td>80.0</td>\n",
       "      <td>male</td>\n",
       "      <td>scalp</td>\n",
       "      <td>vidir_modern</td>\n",
       "      <td>HAM10000_images_part_1/ISIC_0026769.jpg</td>\n",
       "    </tr>\n",
       "    <tr>\n",
       "      <th>3</th>\n",
       "      <td>HAM_0002730</td>\n",
       "      <td>ISIC_0025661</td>\n",
       "      <td>bkl</td>\n",
       "      <td>histo</td>\n",
       "      <td>80.0</td>\n",
       "      <td>male</td>\n",
       "      <td>scalp</td>\n",
       "      <td>vidir_modern</td>\n",
       "      <td>HAM10000_images_part_1/ISIC_0025661.jpg</td>\n",
       "    </tr>\n",
       "    <tr>\n",
       "      <th>4</th>\n",
       "      <td>HAM_0001466</td>\n",
       "      <td>ISIC_0031633</td>\n",
       "      <td>bkl</td>\n",
       "      <td>histo</td>\n",
       "      <td>75.0</td>\n",
       "      <td>male</td>\n",
       "      <td>ear</td>\n",
       "      <td>vidir_modern</td>\n",
       "      <td>HAM10000_images_part_2/ISIC_0031633.jpg</td>\n",
       "    </tr>\n",
       "    <tr>\n",
       "      <th>8</th>\n",
       "      <td>HAM_0005132</td>\n",
       "      <td>ISIC_0025837</td>\n",
       "      <td>bkl</td>\n",
       "      <td>histo</td>\n",
       "      <td>70.0</td>\n",
       "      <td>female</td>\n",
       "      <td>back</td>\n",
       "      <td>vidir_modern</td>\n",
       "      <td>HAM10000_images_part_1/ISIC_0025837.jpg</td>\n",
       "    </tr>\n",
       "  </tbody>\n",
       "</table>\n",
       "</div>"
      ],
      "text/plain": [
       "     lesion_id      image_id   dx dx_type   age     sex localization  \\\n",
       "1  HAM_0000118  ISIC_0025030  bkl   histo  80.0    male        scalp   \n",
       "2  HAM_0002730  ISIC_0026769  bkl   histo  80.0    male        scalp   \n",
       "3  HAM_0002730  ISIC_0025661  bkl   histo  80.0    male        scalp   \n",
       "4  HAM_0001466  ISIC_0031633  bkl   histo  75.0    male          ear   \n",
       "8  HAM_0005132  ISIC_0025837  bkl   histo  70.0  female         back   \n",
       "\n",
       "        dataset                                 img_path  \n",
       "1  vidir_modern  HAM10000_images_part_1/ISIC_0025030.jpg  \n",
       "2  vidir_modern  HAM10000_images_part_1/ISIC_0026769.jpg  \n",
       "3  vidir_modern  HAM10000_images_part_1/ISIC_0025661.jpg  \n",
       "4  vidir_modern  HAM10000_images_part_2/ISIC_0031633.jpg  \n",
       "8  vidir_modern  HAM10000_images_part_1/ISIC_0025837.jpg  "
      ]
     },
     "execution_count": 67,
     "metadata": {},
     "output_type": "execute_result"
    }
   ],
   "source": [
    "img_path = {os.path.splitext(os.path.basename(x))[0]: x for x in glob((os.path.join('*', '*.jpg')))}\n",
    "\n",
    "df_data['img_path'] = df_data['image_id'].map(img_path.get)\n",
    "\n",
    "#drop rows with no image path\n",
    "df_data.dropna(inplace=True)\n",
    "df_data.head()"
   ]
  },
  {
   "cell_type": "code",
   "execution_count": 68,
   "metadata": {},
   "outputs": [],
   "source": [
    "def load_image(image_path):\n",
    "    try:\n",
    "        image = Image.open(image_path)\n",
    "        return np.asarray(image.resize((32, 32)))\n",
    "    except Exception as e:\n",
    "        print(f\"Error loading image '{image_path}': {e}\")\n",
    "        return None"
   ]
  },
  {
   "cell_type": "code",
   "execution_count": 69,
   "metadata": {},
   "outputs": [],
   "source": [
    "def transpose(img):\n",
    "    '''\n",
    "    Apply transpose to an image such that the color channels are first\n",
    "    '''\n",
    "    return np.transpose(img, (2, 0 ,1))"
   ]
  },
  {
   "cell_type": "code",
   "execution_count": 70,
   "metadata": {},
   "outputs": [
    {
     "data": {
      "text/html": [
       "<div>\n",
       "<style scoped>\n",
       "    .dataframe tbody tr th:only-of-type {\n",
       "        vertical-align: middle;\n",
       "    }\n",
       "\n",
       "    .dataframe tbody tr th {\n",
       "        vertical-align: top;\n",
       "    }\n",
       "\n",
       "    .dataframe thead th {\n",
       "        text-align: right;\n",
       "    }\n",
       "</style>\n",
       "<table border=\"1\" class=\"dataframe\">\n",
       "  <thead>\n",
       "    <tr style=\"text-align: right;\">\n",
       "      <th></th>\n",
       "      <th>lesion_id</th>\n",
       "      <th>image_id</th>\n",
       "      <th>dx</th>\n",
       "      <th>dx_type</th>\n",
       "      <th>age</th>\n",
       "      <th>sex</th>\n",
       "      <th>localization</th>\n",
       "      <th>dataset</th>\n",
       "      <th>img_path</th>\n",
       "      <th>img</th>\n",
       "    </tr>\n",
       "  </thead>\n",
       "  <tbody>\n",
       "    <tr>\n",
       "      <th>1</th>\n",
       "      <td>HAM_0000118</td>\n",
       "      <td>ISIC_0025030</td>\n",
       "      <td>bkl</td>\n",
       "      <td>histo</td>\n",
       "      <td>80.0</td>\n",
       "      <td>male</td>\n",
       "      <td>scalp</td>\n",
       "      <td>vidir_modern</td>\n",
       "      <td>HAM10000_images_part_1/ISIC_0025030.jpg</td>\n",
       "      <td>[[[24, 56, 106, 143, 167, 173, 177, 178, 185, ...</td>\n",
       "    </tr>\n",
       "    <tr>\n",
       "      <th>2</th>\n",
       "      <td>HAM_0002730</td>\n",
       "      <td>ISIC_0026769</td>\n",
       "      <td>bkl</td>\n",
       "      <td>histo</td>\n",
       "      <td>80.0</td>\n",
       "      <td>male</td>\n",
       "      <td>scalp</td>\n",
       "      <td>vidir_modern</td>\n",
       "      <td>HAM10000_images_part_1/ISIC_0026769.jpg</td>\n",
       "      <td>[[[190, 199, 200, 205, 207, 207, 209, 201, 199...</td>\n",
       "    </tr>\n",
       "    <tr>\n",
       "      <th>3</th>\n",
       "      <td>HAM_0002730</td>\n",
       "      <td>ISIC_0025661</td>\n",
       "      <td>bkl</td>\n",
       "      <td>histo</td>\n",
       "      <td>80.0</td>\n",
       "      <td>male</td>\n",
       "      <td>scalp</td>\n",
       "      <td>vidir_modern</td>\n",
       "      <td>HAM10000_images_part_1/ISIC_0025661.jpg</td>\n",
       "      <td>[[[35, 83, 128, 161, 174, 180, 191, 192, 199, ...</td>\n",
       "    </tr>\n",
       "    <tr>\n",
       "      <th>4</th>\n",
       "      <td>HAM_0001466</td>\n",
       "      <td>ISIC_0031633</td>\n",
       "      <td>bkl</td>\n",
       "      <td>histo</td>\n",
       "      <td>75.0</td>\n",
       "      <td>male</td>\n",
       "      <td>ear</td>\n",
       "      <td>vidir_modern</td>\n",
       "      <td>HAM10000_images_part_2/ISIC_0031633.jpg</td>\n",
       "      <td>[[[155, 188, 210, 220, 228, 233, 235, 234, 238...</td>\n",
       "    </tr>\n",
       "    <tr>\n",
       "      <th>8</th>\n",
       "      <td>HAM_0005132</td>\n",
       "      <td>ISIC_0025837</td>\n",
       "      <td>bkl</td>\n",
       "      <td>histo</td>\n",
       "      <td>70.0</td>\n",
       "      <td>female</td>\n",
       "      <td>back</td>\n",
       "      <td>vidir_modern</td>\n",
       "      <td>HAM10000_images_part_1/ISIC_0025837.jpg</td>\n",
       "      <td>[[[122, 158, 179, 184, 191, 188, 194, 195, 199...</td>\n",
       "    </tr>\n",
       "  </tbody>\n",
       "</table>\n",
       "</div>"
      ],
      "text/plain": [
       "     lesion_id      image_id   dx dx_type   age     sex localization  \\\n",
       "1  HAM_0000118  ISIC_0025030  bkl   histo  80.0    male        scalp   \n",
       "2  HAM_0002730  ISIC_0026769  bkl   histo  80.0    male        scalp   \n",
       "3  HAM_0002730  ISIC_0025661  bkl   histo  80.0    male        scalp   \n",
       "4  HAM_0001466  ISIC_0031633  bkl   histo  75.0    male          ear   \n",
       "8  HAM_0005132  ISIC_0025837  bkl   histo  70.0  female         back   \n",
       "\n",
       "        dataset                                 img_path  \\\n",
       "1  vidir_modern  HAM10000_images_part_1/ISIC_0025030.jpg   \n",
       "2  vidir_modern  HAM10000_images_part_1/ISIC_0026769.jpg   \n",
       "3  vidir_modern  HAM10000_images_part_1/ISIC_0025661.jpg   \n",
       "4  vidir_modern  HAM10000_images_part_2/ISIC_0031633.jpg   \n",
       "8  vidir_modern  HAM10000_images_part_1/ISIC_0025837.jpg   \n",
       "\n",
       "                                                 img  \n",
       "1  [[[24, 56, 106, 143, 167, 173, 177, 178, 185, ...  \n",
       "2  [[[190, 199, 200, 205, 207, 207, 209, 201, 199...  \n",
       "3  [[[35, 83, 128, 161, 174, 180, 191, 192, 199, ...  \n",
       "4  [[[155, 188, 210, 220, 228, 233, 235, 234, 238...  \n",
       "8  [[[122, 158, 179, 184, 191, 188, 194, 195, 199...  "
      ]
     },
     "execution_count": 70,
     "metadata": {},
     "output_type": "execute_result"
    }
   ],
   "source": [
    "# change image shape in entire dataset\n",
    "df_data['img'] = df_data['img_path'].map(load_image)\n",
    "df_data['img'] = df_data['img'].apply(transpose)\n",
    "\n",
    "# drop na values \n",
    "df_data.dropna()\n",
    "\n",
    "# take a look at dataset\n",
    "df_data.head(5)"
   ]
  },
  {
   "cell_type": "code",
   "execution_count": 71,
   "metadata": {},
   "outputs": [
    {
     "name": "stdout",
     "output_type": "stream",
     "text": [
      "df shape:  (8039, 10)\n",
      "shape of an image:  (3, 32, 32)\n"
     ]
    }
   ],
   "source": [
    "print(\"df shape: \", df_data.shape)\n",
    "print(\"shape of an image: \", df_data['img'].iloc[10].shape)"
   ]
  },
  {
   "cell_type": "code",
   "execution_count": 72,
   "metadata": {},
   "outputs": [
    {
     "data": {
      "image/png": "[encoded data removed]",
      "text/plain": [
       "<Figure size 640x480 with 1 Axes>"
      ]
     },
     "metadata": {},
     "output_type": "display_data"
    }
   ],
   "source": [
    "# example of plotting an image\n",
    "img = df_data['img'].iloc[10]\n",
    "img = np.transpose(img, (1, 2, 0))\n",
    "plt.imshow(img, cmap = \"Greys_r\")\n",
    "plt.gca().axis(\"off\")\n",
    "plt.show()"
   ]
  },
  {
   "cell_type": "markdown",
   "metadata": {},
   "source": [
    "### Data Augmentation!"
   ]
  },
  {
   "cell_type": "code",
   "execution_count": 73,
   "metadata": {},
   "outputs": [
    {
     "name": "stdout",
     "output_type": "stream",
     "text": [
      "original image\n"
     ]
    },
    {
     "data": {
      "image/png": "[encoded data removed]",
      "text/plain": [
       "<Figure size 640x480 with 1 Axes>"
      ]
     },
     "metadata": {},
     "output_type": "display_data"
    },
    {
     "name": "stdout",
     "output_type": "stream",
     "text": [
      "transformed image\n"
     ]
    },
    {
     "data": {
      "text/plain": [
       "<matplotlib.image.AxesImage at 0x29ab47b80>"
      ]
     },
     "execution_count": 73,
     "metadata": {},
     "output_type": "execute_result"
    },
    {
     "data": {
      "image/png": "[encoded data removed]",
      "text/plain": [
       "<Figure size 640x480 with 1 Axes>"
      ]
     },
     "metadata": {},
     "output_type": "display_data"
    }
   ],
   "source": [
    "from PIL import Image\n",
    "from torchvision.transforms import v2\n",
    "from torchvision import transforms\n",
    "\n",
    "transform = transforms.Compose([\n",
    "    transforms.RandomResizedCrop(size=(32, 32), scale=(0.8, 1.0)),  # Random zoom\n",
    "    transforms.RandomHorizontalFlip(),\n",
    "    transforms.RandomVerticalFlip(),\n",
    "])\n",
    "\n",
    "# original image\n",
    "print(\"original image\")\n",
    "img = df_data['img'].iloc[10]\n",
    "img = np.transpose(img, (1, 2, 0))\n",
    "plt.imshow(img, cmap = \"Greys_r\")\n",
    "plt.gca().axis(\"off\")\n",
    "plt.show()\n",
    "\n",
    "# transformed image\n",
    "print(\"transformed image\")\n",
    "img = Image.fromarray(img)\n",
    "img = transform(img)\n",
    "plt.imshow(img)"
   ]
  },
  {
   "cell_type": "markdown",
   "metadata": {},
   "source": [
    "Apply these transformations to images in df_train"
   ]
  },
  {
   "cell_type": "code",
   "execution_count": 74,
   "metadata": {},
   "outputs": [
    {
     "name": "stderr",
     "output_type": "stream",
     "text": [
      "/var/folders/nd/3yjvm85j3rq1vhh53yn6cy0r0000gn/T/ipykernel_92839/1520373487.py:4: SettingWithCopyWarning: \n",
      "A value is trying to be set on a copy of a slice from a DataFrame.\n",
      "Try using .loc[row_indexer,col_indexer] = value instead\n",
      "\n",
      "See the caveats in the documentation: https://pandas.pydata.org/pandas-docs/stable/user_guide/indexing.html#returning-a-view-versus-a-copy\n",
      "  df_minority['img'] = df_minority['img'].apply(lambda img: np.array(transform(Image.fromarray(np.transpose(img, (1, 2, 0))))).transpose((2, 0, 1)))\n"
     ]
    }
   ],
   "source": [
    "# grab all rows that aren't instance of nv\n",
    "df_minority = df_data[df_data['dx'] != 'nv']\n",
    "# apply transformations\n",
    "df_minority['img'] = df_minority['img'].apply(lambda img: np.array(transform(Image.fromarray(np.transpose(img, (1, 2, 0))))).transpose((2, 0, 1)))\n",
    "\n",
    "# add transiformations to original df\n",
    "df_large = df_data.copy()\n",
    "df_large = pd.concat([df_data, df_minority], ignore_index=True)\n",
    "\n",
    "# shuffle df\n",
    "df_large = df_large.sample(frac=1).reset_index(drop=True)"
   ]
  },
  {
   "cell_type": "code",
   "execution_count": 75,
   "metadata": {},
   "outputs": [
    {
     "name": "stdout",
     "output_type": "stream",
     "text": [
      "Image in new dataset!\n"
     ]
    },
    {
     "data": {
      "image/png": "[encoded data removed]",
      "text/plain": [
       "<Figure size 640x480 with 1 Axes>"
      ]
     },
     "metadata": {},
     "output_type": "display_data"
    }
   ],
   "source": [
    "# make sure the transformations worked\n",
    "print(\"Image in new dataset!\")\n",
    "img = df_transformed['img'].iloc[10]\n",
    "img = np.transpose(img, (1, 2, 0))\n",
    "plt.imshow(img, cmap = \"Greys_r\")\n",
    "plt.gca().axis(\"off\")\n",
    "plt.show()"
   ]
  },
  {
   "cell_type": "code",
   "execution_count": 76,
   "metadata": {},
   "outputs": [],
   "source": [
    "# did the append work? Yes!\n",
    "len(df_large)\n",
    "\n",
    "# re-set df to be df_large\n",
    "df_data = df_large.copy()"
   ]
  },
  {
   "cell_type": "markdown",
   "metadata": {},
   "source": [
    "### Train Test Split"
   ]
  },
  {
   "cell_type": "code",
   "execution_count": 77,
   "metadata": {},
   "outputs": [
    {
     "data": {
      "text/html": [
       "<div>\n",
       "<style scoped>\n",
       "    .dataframe tbody tr th:only-of-type {\n",
       "        vertical-align: middle;\n",
       "    }\n",
       "\n",
       "    .dataframe tbody tr th {\n",
       "        vertical-align: top;\n",
       "    }\n",
       "\n",
       "    .dataframe thead th {\n",
       "        text-align: right;\n",
       "    }\n",
       "</style>\n",
       "<table border=\"1\" class=\"dataframe\">\n",
       "  <thead>\n",
       "    <tr style=\"text-align: right;\">\n",
       "      <th></th>\n",
       "      <th>lesion_id</th>\n",
       "      <th>img</th>\n",
       "    </tr>\n",
       "  </thead>\n",
       "  <tbody>\n",
       "    <tr>\n",
       "      <th>5044</th>\n",
       "      <td>HAM_0007286</td>\n",
       "      <td>[[[217, 219, 222, 224, 223, 222, 226, 225, 227...</td>\n",
       "    </tr>\n",
       "    <tr>\n",
       "      <th>2732</th>\n",
       "      <td>HAM_0001113</td>\n",
       "      <td>[[[192, 190, 192, 196, 198, 199, 196, 196, 197...</td>\n",
       "    </tr>\n",
       "    <tr>\n",
       "      <th>9254</th>\n",
       "      <td>HAM_0001773</td>\n",
       "      <td>[[[148, 150, 147, 153, 158, 158, 164, 166, 165...</td>\n",
       "    </tr>\n",
       "    <tr>\n",
       "      <th>7883</th>\n",
       "      <td>HAM_0002083</td>\n",
       "      <td>[[[117, 128, 134, 155, 165, 174, 179, 181, 188...</td>\n",
       "    </tr>\n",
       "    <tr>\n",
       "      <th>1018</th>\n",
       "      <td>HAM_0000362</td>\n",
       "      <td>[[[164, 167, 170, 175, 176, 178, 180, 182, 184...</td>\n",
       "    </tr>\n",
       "  </tbody>\n",
       "</table>\n",
       "</div>"
      ],
      "text/plain": [
       "        lesion_id                                                img\n",
       "5044  HAM_0007286  [[[217, 219, 222, 224, 223, 222, 226, 225, 227...\n",
       "2732  HAM_0001113  [[[192, 190, 192, 196, 198, 199, 196, 196, 197...\n",
       "9254  HAM_0001773  [[[148, 150, 147, 153, 158, 158, 164, 166, 165...\n",
       "7883  HAM_0002083  [[[117, 128, 134, 155, 165, 174, 179, 181, 188...\n",
       "1018  HAM_0000362  [[[164, 167, 170, 175, 176, 178, 180, 182, 184..."
      ]
     },
     "execution_count": 77,
     "metadata": {},
     "output_type": "execute_result"
    }
   ],
   "source": [
    "from sklearn.model_selection import train_test_split\n",
    "\n",
    "# train test split\n",
    "X_train, X_test, y_train, y_test = train_test_split(df_data[['lesion_id', 'img']], df_data['dx'], test_size=0.2, random_state=42)\n",
    "\n",
    "# X_train has lesion_id and img\n",
    "X_train.head()"
   ]
  },
  {
   "cell_type": "markdown",
   "metadata": {},
   "source": [
    "### First Logistic Regression Model"
   ]
  },
  {
   "cell_type": "markdown",
   "metadata": {},
   "source": [
    "How does a simple logistic regression model perform on images flattened into a list of pixel color values?"
   ]
  },
  {
   "cell_type": "code",
   "execution_count": 78,
   "metadata": {},
   "outputs": [
    {
     "name": "stdout",
     "output_type": "stream",
     "text": [
      "(8593, 3)\n",
      "(2149, 3)\n"
     ]
    },
    {
     "data": {
      "text/plain": [
       "torch.Size([8593, 3072])"
      ]
     },
     "execution_count": 78,
     "metadata": {},
     "output_type": "execute_result"
    }
   ],
   "source": [
    "n, p = X_train.shape[0], X_train.shape[1] - 1\n",
    "\n",
    "img_tensors = [torch.Tensor(img) for img in X_train['img'].values]\n",
    "X_train['img_tensor'] = img_tensors\n",
    "print(X_train.shape)\n",
    "\n",
    "img_tensors_tst = [torch.Tensor(img) for img in X_test['img'].values]\n",
    "X_test['img_tensor'] = img_tensors_tst\n",
    "print(X_test.shape)\n",
    "\n",
    "X_train_flat = torch.stack([img.flatten() for img in X_train['img_tensor']])\n",
    "X_train_flat.shape"
   ]
  },
  {
   "cell_type": "markdown",
   "metadata": {},
   "source": [
    "Investigate class distribution in y_train to determine baseline accuracy "
   ]
  },
  {
   "cell_type": "code",
   "execution_count": 79,
   "metadata": {},
   "outputs": [
    {
     "data": {
      "image/png": "[encoded data removed]",
      "text/plain": [
       "<Figure size 640x480 with 1 Axes>"
      ]
     },
     "metadata": {},
     "output_type": "display_data"
    }
   ],
   "source": [
    "from sklearn.preprocessing import LabelEncoder\n",
    "\n",
    "# Create a label encoder\n",
    "le = LabelEncoder()\n",
    "\n",
    "# Fit the label encoder and transform y_train\n",
    "y_train_encoded = le.fit_transform(y_train)\n",
    "\n",
    "# Now you can count the occurrences of each class\n",
    "counts = np.bincount(y_train_encoded)\n",
    "\n",
    "# Create a bar plot\n",
    "plt.bar(range(len(counts)), counts)\n",
    "\n",
    "# Show the plot\n",
    "plt.show()"
   ]
  },
  {
   "cell_type": "code",
   "execution_count": 80,
   "metadata": {},
   "outputs": [
    {
     "name": "stderr",
     "output_type": "stream",
     "text": [
      "/Users/lizrightmire/anaconda3/envs/ml-0451/lib/python3.9/site-packages/sklearn/linear_model/_logistic.py:460: ConvergenceWarning: lbfgs failed to converge (status=1):\n",
      "STOP: TOTAL NO. of ITERATIONS REACHED LIMIT.\n",
      "\n",
      "Increase the number of iterations (max_iter) or scale the data as shown in:\n",
      "    https://scikit-learn.org/stable/modules/preprocessing.html\n",
      "Please also refer to the documentation for alternative solver options:\n",
      "    https://scikit-learn.org/stable/modules/linear_model.html#logistic-regression\n",
      "  n_iter_i = _check_optimize_result(\n"
     ]
    }
   ],
   "source": [
    "from sklearn.linear_model import LogisticRegression\n",
    "\n",
    "LR = LogisticRegression()\n",
    "f = LR.fit(X_train_flat, y_train)"
   ]
  },
  {
   "cell_type": "code",
   "execution_count": 81,
   "metadata": {},
   "outputs": [
    {
     "data": {
      "text/plain": [
       "tensor([[217., 219., 222.,  ..., 171., 172., 170.],\n",
       "        [192., 190., 192.,  ..., 162., 139., 136.],\n",
       "        [148., 150., 147.,  ...,  70.,  27.,  33.],\n",
       "        ...,\n",
       "        [155., 163., 165.,  ..., 153., 133., 126.],\n",
       "        [224., 227., 228.,  ..., 172., 170., 171.],\n",
       "        [205., 205., 208.,  ..., 187., 186., 174.]])"
      ]
     },
     "execution_count": 81,
     "metadata": {},
     "output_type": "execute_result"
    }
   ],
   "source": [
    "X_train_flat"
   ]
  },
  {
   "cell_type": "code",
   "execution_count": 82,
   "metadata": {},
   "outputs": [
    {
     "data": {
      "text/plain": [
       "0.587454905155359"
      ]
     },
     "execution_count": 82,
     "metadata": {},
     "output_type": "execute_result"
    }
   ],
   "source": [
    "LR.score(X_train_flat, y_train)"
   ]
  },
  {
   "cell_type": "markdown",
   "metadata": {},
   "source": [
    "### Convolutional Neural Net\n",
    "We already flattened the data, so that's pretty cool!"
   ]
  },
  {
   "cell_type": "code",
   "execution_count": 83,
   "metadata": {},
   "outputs": [],
   "source": [
    "from torch.nn import Conv2d, MaxPool2d, Parameter\n",
    "from torch.nn.functional import relu\n",
    "\n",
    "import torch.nn as nn\n",
    "from  torch.nn import ReLU"
   ]
  },
  {
   "cell_type": "code",
   "execution_count": 84,
   "metadata": {},
   "outputs": [
    {
     "name": "stdout",
     "output_type": "stream",
     "text": [
      "(3, 32, 32)\n",
      "(3, 32, 32)\n"
     ]
    }
   ],
   "source": [
    "print(X_train['img'].iloc[0].shape)\n",
    "print(X_test['img'].iloc[0].shape)"
   ]
  },
  {
   "cell_type": "code",
   "execution_count": 85,
   "metadata": {},
   "outputs": [
    {
     "name": "stdout",
     "output_type": "stream",
     "text": [
      "Encoded Value: 0, Class: akiec\n",
      "Encoded Value: 1, Class: bcc\n",
      "Encoded Value: 2, Class: bkl\n",
      "Encoded Value: 3, Class: df\n",
      "Encoded Value: 4, Class: mel\n",
      "Encoded Value: 5, Class: nv\n",
      "Encoded Value: 6, Class: vasc\n"
     ]
    }
   ],
   "source": [
    "from sklearn.preprocessing import LabelEncoder\n",
    "\n",
    "le = LabelEncoder()\n",
    "\n",
    "# Fit the encoder on the training data\n",
    "le.fit(y_train)\n",
    "\n",
    "# Transform y_train and y_test using the fitted encoder\n",
    "y_train = le.transform(y_train)\n",
    "y_test = le.transform(y_test)\n",
    "\n",
    "LEClasses = le.classes_\n",
    "\n",
    "# Print the classes and their encoded values\n",
    "for index, label in enumerate(le.classes_):\n",
    "    print(f'Encoded Value: {index}, Class: {label}')"
   ]
  },
  {
   "cell_type": "code",
   "execution_count": 86,
   "metadata": {},
   "outputs": [],
   "source": [
    "X_train_img = torch.stack([torch.from_numpy(img) for img in X_train['img'].tolist()])\n",
    "y_train = torch.Tensor(y_train.tolist())\n",
    "\n",
    "X_test_img = torch.stack([torch.from_numpy(img) for img in X_test['img'].tolist()])\n",
    "y_test = torch.Tensor(y_test.tolist())"
   ]
  },
  {
   "cell_type": "code",
   "execution_count": 87,
   "metadata": {},
   "outputs": [],
   "source": [
    "data_loader_train = torch.utils.data.DataLoader(\n",
    "    torch.utils.data.TensorDataset(X_train_img, y_train),\n",
    "    batch_size = 100,\n",
    "    shuffle = True\n",
    ")\n",
    "\n",
    "data_loader_val = torch.utils.data.DataLoader(\n",
    "    torch.utils.data.TensorDataset(X_test_img, y_test),\n",
    "    batch_size = 100,\n",
    "    shuffle = True\n",
    ")\n",
    "\n",
    "X, y = next(iter(data_loader_train))"
   ]
  },
  {
   "cell_type": "code",
   "execution_count": 88,
   "metadata": {},
   "outputs": [],
   "source": [
    "def evaluate(model, multichannel = False):\n",
    "\n",
    "    # count the number of total observations and correct predictions\n",
    "    total = 0\n",
    "    total_correct = 0\n",
    "\n",
    "    # loop through the data loader\n",
    "    for X, y in data_loader_val:\n",
    "        X = X.float()\n",
    "        y = y.long()\n",
    "\n",
    "        # used for evaluating ImageNet later\n",
    "        if multichannel:\n",
    "            X = torch.tile(X, dims = (1, 3, 1, 1))\n",
    "\n",
    "        # move the data to the device (ideally, to gpu)\n",
    "\n",
    "        # compute the predictions\n",
    "        scores = model.forward(X)\n",
    "        y_pred =  torch.argmax(scores, dim = 1)\n",
    "\n",
    "        # update the total and the number of correct predictions\n",
    "        total += X.size(0)\n",
    "        total_correct += (y_pred == y).sum().item()\n",
    "\n",
    "    print(f\"validation accuracy = {total_correct / total:.3f}\")\n",
    "#--"
   ]
  },
  {
   "cell_type": "code",
   "execution_count": 89,
   "metadata": {},
   "outputs": [],
   "source": [
    "import torch.optim as optim\n",
    "def train(model, k_epochs = 1, print_every = 2000, evaluate_after_epoch = True, multichannel = False, **opt_kwargs):\n",
    "\n",
    "    # loss function is cross-entropy (multiclass logistic)\n",
    "    loss_fn = nn.CrossEntropyLoss()\n",
    "\n",
    "    # optimizer is SGD with momentum\n",
    "    optimizer = optim.SGD(model.parameters(), **opt_kwargs)\n",
    "\n",
    "    for epoch in range(k_epochs):\n",
    "        for i, data in enumerate(data_loader_train):\n",
    "            X, y = data\n",
    "            X = X.float()\n",
    "            y = y.long()\n",
    "            \n",
    "            if multichannel:\n",
    "                X = torch.tile(X, dims = (1, 3, 1, 1))\n",
    "\n",
    "            # clear any accumulated gradients\n",
    "            optimizer.zero_grad()\n",
    "\n",
    "            # compute the loss\n",
    "            y_pred = model(X)\n",
    "            loss   = loss_fn(y_pred, y)\n",
    "\n",
    "            # compute gradients and carry out an optimization step\n",
    "            loss.backward()\n",
    "            optimizer.step()\n",
    "\n",
    "            if (i + 1) % print_every == 0:\n",
    "                print(f\"Epoch {epoch}, batch {i:>3}, loss on batch: {loss.item():.3f}\")\n",
    "\n",
    "        if evaluate_after_epoch:\n",
    "            print(f\"Epoch {epoch}: \", end = \"\")\n",
    "            evaluate(model)"
   ]
  },
  {
   "cell_type": "code",
   "execution_count": 90,
   "metadata": {},
   "outputs": [],
   "source": [
    "class ConvNet_Simplest(nn.Module):\n",
    "    def __init__(self):\n",
    "        super().__init__()\n",
    "\n",
    "        self.pipeline = torch.nn.Sequential(\n",
    "            nn.Flatten(),\n",
    "            nn.Linear(3072, 32)\n",
    "        )\n",
    "\n",
    "    def forward(self, x):\n",
    "        return self.pipeline(x)\n",
    "    \n",
    "class ConvNet_class(nn.Module):\n",
    "    def __init__(self):\n",
    "        super().__init__()\n",
    "\n",
    "        self.pipeline = torch.nn.Sequential(\n",
    "            nn.Conv2d(3, 100, 5),\n",
    "            ReLU(),\n",
    "            nn.Conv2d(100, 50, 3),\n",
    "            ReLU(),\n",
    "            nn.MaxPool2d(2, 2),\n",
    "            nn.Conv2d(50, 50, 3),\n",
    "            ReLU(),\n",
    "            nn.Conv2d(50, 50, 3),\n",
    "            ReLU(),\n",
    "            nn.MaxPool2d(2, 2),\n",
    "            nn.Flatten(),\n",
    "            nn.Linear(800, 512),\n",
    "            ReLU(),\n",
    "            nn.Linear(512, 128),\n",
    "            ReLU(),\n",
    "            nn.Linear(128, 7)\n",
    "        )\n",
    "\n",
    "    def forward(self, x):\n",
    "        return self.pipeline(x)\n",
    "\n",
    "class ConvNet_Dropout(nn.Module):\n",
    "    def __init__(self):\n",
    "        super().__init__()\n",
    "\n",
    "        self.pipeline = torch.nn.Sequential(\n",
    "            nn.Conv2d(3, 100, 5),\n",
    "            ReLU(),\n",
    "            nn.Conv2d(100, 50, 3),\n",
    "            ReLU(),\n",
    "            nn.MaxPool2d(2, 2),\n",
    "            #nn.Dropout(0.25),\n",
    "            nn.Conv2d(50, 50, 3),\n",
    "            ReLU(),\n",
    "            nn.Conv2d(50, 50, 3),\n",
    "            ReLU(),\n",
    "            nn.MaxPool2d(2, 2),\n",
    "            #nn.Dropout(0.05),\n",
    "            nn.Flatten(),\n",
    "            nn.Linear(800, 512),\n",
    "            ReLU(),\n",
    "            nn.Linear(512, 128),\n",
    "            ReLU(),\n",
    "            nn.Linear(128, 7)\n",
    "        )\n",
    "\n",
    "    def forward(self, x):\n",
    "        return self.pipeline(x)"
   ]
  },
  {
   "cell_type": "markdown",
   "metadata": {},
   "source": [
    "Start with a very simple neural network:"
   ]
  },
  {
   "cell_type": "code",
   "execution_count": 91,
   "metadata": {},
   "outputs": [
    {
     "name": "stdout",
     "output_type": "stream",
     "text": [
      "----------------------------------------------------------------\n",
      "        Layer (type)               Output Shape         Param #\n",
      "================================================================\n",
      "           Flatten-1                 [-1, 3072]               0\n",
      "            Linear-2                   [-1, 32]          98,336\n",
      "================================================================\n",
      "Total params: 98,336\n",
      "Trainable params: 98,336\n",
      "Non-trainable params: 0\n",
      "----------------------------------------------------------------\n",
      "Input size (MB): 0.01\n",
      "Forward/backward pass size (MB): 0.02\n",
      "Params size (MB): 0.38\n",
      "Estimated Total Size (MB): 0.41\n",
      "----------------------------------------------------------------\n"
     ]
    },
    {
     "name": "stdout",
     "output_type": "stream",
     "text": [
      "Epoch 0: validation accuracy = 0.341\n",
      "Epoch 1: validation accuracy = 0.501\n",
      "Epoch 2: validation accuracy = 0.430\n",
      "Epoch 3: validation accuracy = 0.482\n",
      "Epoch 4: validation accuracy = 0.500\n",
      "Epoch 5: validation accuracy = 0.409\n",
      "Epoch 6: validation accuracy = 0.222\n",
      "Epoch 7: validation accuracy = 0.500\n",
      "Epoch 8: validation accuracy = 0.503\n",
      "Epoch 9: validation accuracy = 0.499\n",
      "Epoch 10: validation accuracy = 0.520\n",
      "Epoch 11: validation accuracy = 0.503\n",
      "Epoch 12: validation accuracy = 0.518\n",
      "Epoch 13: validation accuracy = 0.492\n",
      "Epoch 14: validation accuracy = 0.539\n"
     ]
    }
   ],
   "source": [
    "model = ConvNet_Simplest()\n",
    "from torchsummary import summary\n",
    "summary(model, input_size=(3, 32, 32))\n",
    "train(model, k_epochs = 15, lr = 0.1, evaluate_after_epoch = True, momentum = 0.9)"
   ]
  },
  {
   "cell_type": "markdown",
   "metadata": {},
   "source": [
    "What about the model we used in class?"
   ]
  },
  {
   "cell_type": "code",
   "execution_count": 92,
   "metadata": {},
   "outputs": [
    {
     "name": "stdout",
     "output_type": "stream",
     "text": [
      "Epoch 0: validation accuracy = 0.502\n",
      "Epoch 1: validation accuracy = 0.500\n"
     ]
    }
   ],
   "source": [
    "model = ConvNet_class()\n",
    "train(model, k_epochs = 2, lr = 0.01, evaluate_after_epoch = True, momentum = 0.9)"
   ]
  },
  {
   "cell_type": "markdown",
   "metadata": {},
   "source": [
    "What if we try including dropout?"
   ]
  },
  {
   "cell_type": "code",
   "execution_count": 93,
   "metadata": {},
   "outputs": [
    {
     "name": "stdout",
     "output_type": "stream",
     "text": [
      "Epoch 0: validation accuracy = 0.050\n",
      "Epoch 1: validation accuracy = 0.050\n"
     ]
    }
   ],
   "source": [
    "model = ConvNet_Dropout()\n",
    "train(model, k_epochs = 2, lr = 0.1, evaluate_after_epoch = True, momentum = 0.9)"
   ]
  },
  {
   "cell_type": "markdown",
   "metadata": {},
   "source": [
    "Let's try a model as recommended by a scientific paper on this problem"
   ]
  },
  {
   "cell_type": "code",
   "execution_count": 94,
   "metadata": {},
   "outputs": [],
   "source": [
    "import torch.nn.functional as F\n",
    "\n",
    "class ConvNet_Expert(nn.Module):\n",
    "    def __init__(self):\n",
    "        super().__init__()\n",
    "\n",
    "        self.pipeline = nn.Sequential(\n",
    "            nn.Conv2d(3, 32, 3, padding=1),\n",
    "            nn.BatchNorm2d(32),\n",
    "            nn.ReLU(),\n",
    "            nn.MaxPool2d(3, stride=3),\n",
    "            nn.Dropout(0.25),\n",
    "\n",
    "            nn.Conv2d(32, 64, 3, padding=1),\n",
    "            nn.ReLU(),\n",
    "            nn.Conv2d(64, 64, 3, padding=1),\n",
    "            nn.BatchNorm2d(64),\n",
    "            nn.ReLU(),\n",
    "            nn.MaxPool2d(2, stride=2),\n",
    "            nn.Dropout(0.25),\n",
    "\n",
    "            nn.Conv2d(64, 128, 3, padding=1),\n",
    "            nn.ReLU(),\n",
    "            nn.Conv2d(128, 128, 3, padding=1),\n",
    "            nn.BatchNorm2d(128),\n",
    "            nn.ReLU(),\n",
    "            nn.MaxPool2d(2, stride=2),\n",
    "            nn.Dropout(0.25),\n",
    "\n",
    "            nn.Flatten(),\n",
    "            nn.Linear(512, 1024),\n",
    "            nn.BatchNorm1d(1024),\n",
    "            nn.ReLU(),\n",
    "            nn.Dropout(0.5),\n",
    "\n",
    "            nn.Linear(1024, 7),\n",
    "            nn.Softmax(dim=1)\n",
    "        )\n",
    "\n",
    "    def forward(self, x):\n",
    "        return self.pipeline(x)"
   ]
  },
  {
   "cell_type": "code",
   "execution_count": 95,
   "metadata": {},
   "outputs": [
    {
     "name": "stdout",
     "output_type": "stream",
     "text": [
      "Epoch 0: validation accuracy = 0.502\n",
      "Epoch 1: validation accuracy = 0.502\n"
     ]
    }
   ],
   "source": [
    "model = ConvNet_Expert()\n",
    "train(model, k_epochs = 2, lr = 0.1, evaluate_after_epoch = True, momentum = 0.9)"
   ]
  },
  {
   "cell_type": "code",
   "execution_count": 96,
   "metadata": {},
   "outputs": [
    {
     "data": {
      "image/png": "[encoded data removed]",
      "text/plain": [
       "<Figure size 800x600 with 2 Axes>"
      ]
     },
     "metadata": {},
     "output_type": "display_data"
    }
   ],
   "source": [
    "from sklearn.metrics import confusion_matrix\n",
    "import seaborn as sns\n",
    "\n",
    "# Assuming that data_loader is your test data loader\n",
    "def get_all_preds(model, data_loader_val):\n",
    "    all_preds = torch.tensor([])\n",
    "    for batch in data_loader_val:\n",
    "        images, labels = batch\n",
    "\n",
    "        # Convert images to float\n",
    "        images = images.float()\n",
    "\n",
    "        preds = model(images)\n",
    "        all_preds = torch.cat(\n",
    "            (all_preds, preds)\n",
    "            ,dim=0\n",
    "        )\n",
    "    return all_preds\n",
    "\n",
    "with torch.no_grad():\n",
    "    model.eval()\n",
    "    y_pred = get_all_preds(model, data_loader_val)\n",
    "    y_pred = np.argmax(y_pred, axis=1)\n",
    "\n",
    "# Assuming that y_test are your true labels\n",
    "cm = confusion_matrix(y_test, y_pred)\n",
    "\n",
    "# Plot the heatmap\n",
    "plt.figure(figsize=(8, 6))\n",
    "plt.imshow(cm, interpolation='nearest', cmap='Blues')\n",
    "plt.title('Confusion Matrix Heatmap')\n",
    "plt.colorbar()\n",
    "plt.xticks(np.arange(len(LEClasses)), LEClasses, rotation = 45)\n",
    "plt.yticks(np.arange(len(LEClasses)), LEClasses)\n",
    "plt.xlabel('Predicted Label')\n",
    "plt.ylabel('True Label')\n",
    "\n",
    "# Add text annotations\n",
    "thresh = cm.max() / 2\n",
    "for i in range(cm.shape[0]):\n",
    "    for j in range(cm.shape[1]):\n",
    "        plt.text(j, i, format(cm[i, j], 'd'),\n",
    "                 ha=\"center\", va=\"center\",\n",
    "                 color=\"white\" if cm[i, j] > thresh else \"black\")\n",
    "\n",
    "plt.tight_layout()\n",
    "plt.show()"
   ]
  },
  {
   "cell_type": "markdown",
   "metadata": {},
   "source": [
    "Because 60% of our data is of class \"nv,\" our model is predicting this class every time."
   ]
  },
  {
   "cell_type": "markdown",
   "metadata": {},
   "source": [
    "### Apply class weights"
   ]
  },
  {
   "cell_type": "markdown",
   "metadata": {},
   "source": [
    "One way we can adjust our model to work with our unbalanced dataset is to apply class weights."
   ]
  },
  {
   "cell_type": "code",
   "execution_count": 97,
   "metadata": {},
   "outputs": [
    {
     "data": {
      "text/plain": [
       "dx\n",
       "akiec     520\n",
       "bcc       804\n",
       "bkl      1750\n",
       "df        190\n",
       "mel      1896\n",
       "nv       5336\n",
       "vasc      246\n",
       "Name: count, dtype: int64"
      ]
     },
     "execution_count": 97,
     "metadata": {},
     "output_type": "execute_result"
    }
   ],
   "source": [
    "# grab class counts for weights\n",
    "class_counts = df_data['dx'].value_counts().sort_index()\n",
    "class_counts_list = class_counts.values.tolist()\n",
    "\n",
    "# confirmed: these are in the correct order as the label encoder!\n",
    "class_counts"
   ]
  },
  {
   "cell_type": "code",
   "execution_count": 125,
   "metadata": {},
   "outputs": [
    {
     "data": {
      "text/plain": [
       "tensor([0.0058, 0.0037, 0.0017, 0.0158, 0.0016, 0.0006, 0.0122])"
      ]
     },
     "execution_count": 125,
     "metadata": {},
     "output_type": "execute_result"
    }
   ],
   "source": [
    "# Calculate weights -- inversely proportional to class frequencies, so more importance given to under-represented classes\n",
    "weights = (3. / torch.tensor(class_counts_list, dtype=torch.float))\n",
    "weights "
   ]
  },
  {
   "cell_type": "code",
   "execution_count": 126,
   "metadata": {},
   "outputs": [],
   "source": [
    "def train(model, class_weights, k_epochs = 1, print_every = 2000, evaluate_after_epoch = True, multichannel = False, **opt_kwargs):\n",
    "\n",
    "    # Convert class_weights to a tensor\n",
    "    class_weights = torch.tensor(class_weights)\n",
    "\n",
    "    # loss function is cross-entropy (multichannel logistic) with class weights\n",
    "    loss_fn = nn.CrossEntropyLoss(weight=class_weights)\n",
    "\n",
    "    # optimizer is Adam\n",
    "    optimizer = torch.optim.Adam(model.parameters(), **opt_kwargs)\n",
    "\n",
    "    for epoch in range(k_epochs):\n",
    "        for i, data in enumerate(data_loader_train):\n",
    "            X, y = data\n",
    "            X = X.float()\n",
    "            y = y.long()\n",
    "            \n",
    "            if multichannel:\n",
    "                X = torch.tile(X, dims = (1, 3, 1, 1))\n",
    "\n",
    "            # clear any accumulated gradients\n",
    "            optimizer.zero_grad()\n",
    "\n",
    "            # compute the loss\n",
    "            y_pred = model(X)\n",
    "            loss   = loss_fn(y_pred, y)\n",
    "\n",
    "            # compute gradients and carry out an optimization step\n",
    "            loss.backward()\n",
    "            optimizer.step()\n",
    "\n",
    "            if (i + 1) % print_every == 0:\n",
    "                print(f\"Epoch {epoch}, batch {i:>3}, loss on batch: {loss.item():.3f}\")\n",
    "\n",
    "        if evaluate_after_epoch:\n",
    "            print(f\"Epoch {epoch}: \", end = \"\")\n",
    "            evaluate(model)"
   ]
  },
  {
   "cell_type": "code",
   "execution_count": 127,
   "metadata": {},
   "outputs": [
    {
     "name": "stderr",
     "output_type": "stream",
     "text": [
      "/var/folders/nd/3yjvm85j3rq1vhh53yn6cy0r0000gn/T/ipykernel_92839/662070803.py:4: UserWarning: To copy construct from a tensor, it is recommended to use sourceTensor.clone().detach() or sourceTensor.clone().detach().requires_grad_(True), rather than torch.tensor(sourceTensor).\n",
      "  class_weights = torch.tensor(class_weights)\n"
     ]
    },
    {
     "name": "stdout",
     "output_type": "stream",
     "text": [
      "Epoch 0: validation accuracy = 0.502\n",
      "Epoch 1: validation accuracy = 0.502\n"
     ]
    }
   ],
   "source": [
    "model = ConvNet_Expert()\n",
    "train(model, weights, k_epochs = 2, lr = 0.1, evaluate_after_epoch = True)"
   ]
  },
  {
   "cell_type": "code",
   "execution_count": 128,
   "metadata": {},
   "outputs": [
    {
     "data": {
      "image/png": "[encoded data removed]",
      "text/plain": [
       "<Figure size 800x600 with 2 Axes>"
      ]
     },
     "metadata": {},
     "output_type": "display_data"
    }
   ],
   "source": [
    "with torch.no_grad():\n",
    "    model.eval()\n",
    "    y_pred = get_all_preds(model, data_loader_val)\n",
    "    y_pred = np.argmax(y_pred, axis=1)\n",
    "    \n",
    "# Assuming that y_test are your true labels\n",
    "cm = confusion_matrix(y_test, y_pred)\n",
    "\n",
    "# Plot the heatmap\n",
    "plt.figure(figsize=(8, 6))\n",
    "plt.imshow(cm, interpolation='nearest', cmap='Blues')\n",
    "plt.title('Confusion Matrix Heatmap')\n",
    "plt.colorbar()\n",
    "plt.xticks(np.arange(len(LEClasses)), LEClasses, rotation = 45)\n",
    "plt.yticks(np.arange(len(LEClasses)), LEClasses)\n",
    "plt.xlabel('Predicted Label')\n",
    "plt.ylabel('True Label')\n",
    "\n",
    "# Add text annotations\n",
    "thresh = cm.max() / 2\n",
    "for i in range(cm.shape[0]):\n",
    "    for j in range(cm.shape[1]):\n",
    "        plt.text(j, i, format(cm[i, j], 'd'),\n",
    "                 ha=\"center\", va=\"center\",\n",
    "                 color=\"white\" if cm[i, j] > thresh else \"black\")\n",
    "\n",
    "plt.tight_layout()\n",
    "plt.show()"
   ]
  },
  {
   "cell_type": "markdown",
   "metadata": {},
   "source": [
    "Ok, at least we're not just predicting nv now! "
   ]
  },
  {
   "cell_type": "markdown",
   "metadata": {},
   "source": [
    "### Transfer Learning "
   ]
  },
  {
   "cell_type": "code",
   "execution_count": 117,
   "metadata": {},
   "outputs": [],
   "source": [
    "from torchvision import models\n",
    "model = models.resnet18(weights='IMAGENET1K_V1')"
   ]
  },
  {
   "cell_type": "code",
   "execution_count": 118,
   "metadata": {},
   "outputs": [],
   "source": [
    "num_ftrs = model.fc.in_features\n",
    "model.fc = nn.Linear(num_ftrs, 7)"
   ]
  },
  {
   "cell_type": "code",
   "execution_count": 119,
   "metadata": {},
   "outputs": [
    {
     "name": "stderr",
     "output_type": "stream",
     "text": [
      "/var/folders/nd/3yjvm85j3rq1vhh53yn6cy0r0000gn/T/ipykernel_92839/662070803.py:4: UserWarning: To copy construct from a tensor, it is recommended to use sourceTensor.clone().detach() or sourceTensor.clone().detach().requires_grad_(True), rather than torch.tensor(sourceTensor).\n",
      "  class_weights = torch.tensor(class_weights)\n"
     ]
    },
    {
     "name": "stdout",
     "output_type": "stream",
     "text": [
      "Epoch 0: validation accuracy = 0.187\n"
     ]
    },
    {
     "ename": "KeyboardInterrupt",
     "evalue": "",
     "output_type": "error",
     "traceback": [
      "\u001b[0;31m---------------------------------------------------------------------------\u001b[0m",
      "\u001b[0;31mKeyboardInterrupt\u001b[0m                         Traceback (most recent call last)",
      "Cell \u001b[0;32mIn[119], line 1\u001b[0m\n\u001b[0;32m----> 1\u001b[0m \u001b[43mtrain\u001b[49m\u001b[43m(\u001b[49m\u001b[43mmodel\u001b[49m\u001b[43m,\u001b[49m\u001b[43m \u001b[49m\u001b[43mclass_weights\u001b[49m\u001b[38;5;241;43m=\u001b[39;49m\u001b[43mweights\u001b[49m\u001b[43m,\u001b[49m\u001b[43m \u001b[49m\u001b[43mk_epochs\u001b[49m\u001b[43m \u001b[49m\u001b[38;5;241;43m=\u001b[39;49m\u001b[43m \u001b[49m\u001b[38;5;241;43m2\u001b[39;49m\u001b[43m,\u001b[49m\u001b[43m  \u001b[49m\u001b[43mlr\u001b[49m\u001b[43m \u001b[49m\u001b[38;5;241;43m=\u001b[39;49m\u001b[43m \u001b[49m\u001b[38;5;241;43m0.01\u001b[39;49m\u001b[43m,\u001b[49m\u001b[43m \u001b[49m\u001b[43mevaluate_after_epoch\u001b[49m\u001b[43m \u001b[49m\u001b[38;5;241;43m=\u001b[39;49m\u001b[43m \u001b[49m\u001b[38;5;28;43;01mTrue\u001b[39;49;00m\u001b[43m,\u001b[49m\u001b[43m \u001b[49m\u001b[43mmultichannel\u001b[49m\u001b[43m \u001b[49m\u001b[38;5;241;43m=\u001b[39;49m\u001b[43m \u001b[49m\u001b[38;5;28;43;01mFalse\u001b[39;49;00m\u001b[43m)\u001b[49m\n",
      "Cell \u001b[0;32mIn[114], line 29\u001b[0m, in \u001b[0;36mtrain\u001b[0;34m(model, class_weights, k_epochs, print_every, evaluate_after_epoch, multichannel, **opt_kwargs)\u001b[0m\n\u001b[1;32m     26\u001b[0m loss   \u001b[38;5;241m=\u001b[39m loss_fn(y_pred, y)\n\u001b[1;32m     28\u001b[0m \u001b[38;5;66;03m# compute gradients and carry out an optimization step\u001b[39;00m\n\u001b[0;32m---> 29\u001b[0m \u001b[43mloss\u001b[49m\u001b[38;5;241;43m.\u001b[39;49m\u001b[43mbackward\u001b[49m\u001b[43m(\u001b[49m\u001b[43m)\u001b[49m\n\u001b[1;32m     30\u001b[0m optimizer\u001b[38;5;241m.\u001b[39mstep()\n\u001b[1;32m     32\u001b[0m \u001b[38;5;28;01mif\u001b[39;00m (i \u001b[38;5;241m+\u001b[39m \u001b[38;5;241m1\u001b[39m) \u001b[38;5;241m%\u001b[39m print_every \u001b[38;5;241m==\u001b[39m \u001b[38;5;241m0\u001b[39m:\n",
      "File \u001b[0;32m~/anaconda3/envs/ml-0451/lib/python3.9/site-packages/torch/_tensor.py:522\u001b[0m, in \u001b[0;36mTensor.backward\u001b[0;34m(self, gradient, retain_graph, create_graph, inputs)\u001b[0m\n\u001b[1;32m    512\u001b[0m \u001b[38;5;28;01mif\u001b[39;00m has_torch_function_unary(\u001b[38;5;28mself\u001b[39m):\n\u001b[1;32m    513\u001b[0m     \u001b[38;5;28;01mreturn\u001b[39;00m handle_torch_function(\n\u001b[1;32m    514\u001b[0m         Tensor\u001b[38;5;241m.\u001b[39mbackward,\n\u001b[1;32m    515\u001b[0m         (\u001b[38;5;28mself\u001b[39m,),\n\u001b[0;32m   (...)\u001b[0m\n\u001b[1;32m    520\u001b[0m         inputs\u001b[38;5;241m=\u001b[39minputs,\n\u001b[1;32m    521\u001b[0m     )\n\u001b[0;32m--> 522\u001b[0m \u001b[43mtorch\u001b[49m\u001b[38;5;241;43m.\u001b[39;49m\u001b[43mautograd\u001b[49m\u001b[38;5;241;43m.\u001b[39;49m\u001b[43mbackward\u001b[49m\u001b[43m(\u001b[49m\n\u001b[1;32m    523\u001b[0m \u001b[43m    \u001b[49m\u001b[38;5;28;43mself\u001b[39;49m\u001b[43m,\u001b[49m\u001b[43m \u001b[49m\u001b[43mgradient\u001b[49m\u001b[43m,\u001b[49m\u001b[43m \u001b[49m\u001b[43mretain_graph\u001b[49m\u001b[43m,\u001b[49m\u001b[43m \u001b[49m\u001b[43mcreate_graph\u001b[49m\u001b[43m,\u001b[49m\u001b[43m \u001b[49m\u001b[43minputs\u001b[49m\u001b[38;5;241;43m=\u001b[39;49m\u001b[43minputs\u001b[49m\n\u001b[1;32m    524\u001b[0m \u001b[43m\u001b[49m\u001b[43m)\u001b[49m\n",
      "File \u001b[0;32m~/anaconda3/envs/ml-0451/lib/python3.9/site-packages/torch/autograd/__init__.py:266\u001b[0m, in \u001b[0;36mbackward\u001b[0;34m(tensors, grad_tensors, retain_graph, create_graph, grad_variables, inputs)\u001b[0m\n\u001b[1;32m    261\u001b[0m     retain_graph \u001b[38;5;241m=\u001b[39m create_graph\n\u001b[1;32m    263\u001b[0m \u001b[38;5;66;03m# The reason we repeat the same comment below is that\u001b[39;00m\n\u001b[1;32m    264\u001b[0m \u001b[38;5;66;03m# some Python versions print out the first line of a multi-line function\u001b[39;00m\n\u001b[1;32m    265\u001b[0m \u001b[38;5;66;03m# calls in the traceback and some print out the last line\u001b[39;00m\n\u001b[0;32m--> 266\u001b[0m \u001b[43mVariable\u001b[49m\u001b[38;5;241;43m.\u001b[39;49m\u001b[43m_execution_engine\u001b[49m\u001b[38;5;241;43m.\u001b[39;49m\u001b[43mrun_backward\u001b[49m\u001b[43m(\u001b[49m\u001b[43m  \u001b[49m\u001b[38;5;66;43;03m# Calls into the C++ engine to run the backward pass\u001b[39;49;00m\n\u001b[1;32m    267\u001b[0m \u001b[43m    \u001b[49m\u001b[43mtensors\u001b[49m\u001b[43m,\u001b[49m\n\u001b[1;32m    268\u001b[0m \u001b[43m    \u001b[49m\u001b[43mgrad_tensors_\u001b[49m\u001b[43m,\u001b[49m\n\u001b[1;32m    269\u001b[0m \u001b[43m    \u001b[49m\u001b[43mretain_graph\u001b[49m\u001b[43m,\u001b[49m\n\u001b[1;32m    270\u001b[0m \u001b[43m    \u001b[49m\u001b[43mcreate_graph\u001b[49m\u001b[43m,\u001b[49m\n\u001b[1;32m    271\u001b[0m \u001b[43m    \u001b[49m\u001b[43minputs\u001b[49m\u001b[43m,\u001b[49m\n\u001b[1;32m    272\u001b[0m \u001b[43m    \u001b[49m\u001b[43mallow_unreachable\u001b[49m\u001b[38;5;241;43m=\u001b[39;49m\u001b[38;5;28;43;01mTrue\u001b[39;49;00m\u001b[43m,\u001b[49m\n\u001b[1;32m    273\u001b[0m \u001b[43m    \u001b[49m\u001b[43maccumulate_grad\u001b[49m\u001b[38;5;241;43m=\u001b[39;49m\u001b[38;5;28;43;01mTrue\u001b[39;49;00m\u001b[43m,\u001b[49m\n\u001b[1;32m    274\u001b[0m \u001b[43m\u001b[49m\u001b[43m)\u001b[49m\n",
      "\u001b[0;31mKeyboardInterrupt\u001b[0m: "
     ]
    }
   ],
   "source": [
    "train(model, class_weights=weights, k_epochs = 2,  lr = 0.01, evaluate_after_epoch = True, multichannel = False)"
   ]
  },
  {
   "cell_type": "code",
   "execution_count": null,
   "metadata": {},
   "outputs": [],
   "source": [
    "with torch.no_grad():\n",
    "    model.eval()\n",
    "    y_pred = get_all_preds(model, data_loader_val)\n",
    "    y_pred = np.argmax(y_pred, axis=1)\n",
    "    \n",
    "# Assuming that y_test are your true labels\n",
    "cm = confusion_matrix(y_test, y_pred)\n",
    "\n",
    "# Plot the heatmap\n",
    "plt.figure(figsize=(8, 6))\n",
    "plt.imshow(cm, interpolation='nearest', cmap='Blues')\n",
    "plt.title('Confusion Matrix Heatmap')\n",
    "plt.colorbar()\n",
    "plt.xticks(np.arange(len(LEClasses)), LEClasses, rotation = 45)\n",
    "plt.yticks(np.arange(len(LEClasses)), LEClasses)\n",
    "plt.xlabel('Predicted Label')\n",
    "plt.ylabel('True Label')\n",
    "\n",
    "# Add text annotations\n",
    "thresh = cm.max() / 2\n",
    "for i in range(cm.shape[0]):\n",
    "    for j in range(cm.shape[1]):\n",
    "        plt.text(j, i, format(cm[i, j], 'd'),\n",
    "                 ha=\"center\", va=\"center\",\n",
    "                 color=\"white\" if cm[i, j] > thresh else \"black\")\n",
    "\n",
    "plt.tight_layout()\n",
    "plt.show()"
   ]
  }
 ],
 "metadata": {
  "kernelspec": {
   "display_name": "ml-0451-2",
   "language": "python",
   "name": "python3"
  },
  "language_info": {
   "codemirror_mode": {
    "name": "ipython",
    "version": 3
   },
   "file_extension": ".py",
   "mimetype": "text/x-python",
   "name": "python",
   "nbconvert_exporter": "python",
   "pygments_lexer": "ipython3",
   "version": "3.9.18"
  }
 },
 "nbformat": 4,
 "nbformat_minor": 2
}
