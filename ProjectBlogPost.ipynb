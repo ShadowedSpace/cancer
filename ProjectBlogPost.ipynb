{
 "cells": [
  {
   "cell_type": "markdown",
   "metadata": {},
   "source": [
    "# Project Blog Post\n",
    "### On skin cancer identification using CNN and Logistic Regresison models\n",
    "\n"
   ]
  },
  {
   "cell_type": "markdown",
   "metadata": {},
   "source": [
    "### Abstract\n",
    "*Your abstract is a one-paragraph summary of the problem you addressed, the approach(es) that you used to address it, and the big-picture results that you obtained.*\n",
    "\n",
    "*At the end of your abstract, please include a link to the GitHub repository that houses your project code and other deliverables.*\n",
    "\n",
    "Skin cancer is the most common form of cancer. According to the Victoria department of health, over 95% of skin cancers that are dected early can be successfully treated. This means that early detection is a crucial step in the treatment process of skin cancer. In our analyses, we aim to identify different types of skin conditions with image classification techniques. Using convolutional neural networks (CNN) and logistic regression (LR) models, we obtain a 75% accuracy rate for classification, where melanocytic nevi (NV) and melanoma (MEL) are the most successfully classified forms of skin condition.\n",
    "\n",
    "Link to GitHub Repository: https://github.com/ShadowedSpace/cancer\n",
    "\n",
    "Source: https://www.betterhealth.vic.gov.au/health/conditionsandtreatments/melanoma#"
   ]
  },
  {
   "cell_type": "markdown",
   "metadata": {},
   "source": [
    "### Introduction\n",
    "*Your introduction should describe the big-picture problem that you aimed to address in your project. What’s the problem to be solved, and why is it important? Who has tried solving this problem already, and what did they do? I would expect most introductions to reference no fewer than 2 scholarly studies that attempted similar tasks, although 5 is probably a better target.*\n",
    "\n",
    "In 1994, Binder et al. trained a neural network that successfully differentiated between melanomas, the leading cause of skin cancer deaths, and melanocytic nevus, which and generally harmless skin lesions commonly known as moles or birth marks. In 2018, a challenge hosted by the International Skin Imaging Collaboration (ISIC) lay out the task of detection and classification of skin lesions and diseases. 900 parties registered to download the data for the challenge and hundreds of group submitted novel evaluation techniques to automate the process of diagnosing skin lesions and diseases. A study conducted on the ISIC challenge revealved that the best classification models still failed to properly classify on average over 10% of dermoscopic images and had varying abilities to generalize (Coedlla et al., 2019). As it turns out, Binder et al.'s study (1994) trained their neural network on 200 images. The dataset used by the ISIC challenge is the world's largest public repository of dermoscopic images of skin and contains 10015 dermoscopic images. First released in 2018 by Philipp Tschandl et al. the HAM10000 (Humans Against Machines) is a novel dataset of  with the aim of improving the process of automated skin lesion diagnosis. \n",
    "\n",
    "According to a recent study by Tandon et al. (2024), the most successful model implemented to automate the diagnoses of cancer patients is the convolutional neural network (CNN). CNNs are a type of neural network that are particularly effective for identifying patterns in images and audio. CNNs are best used when there are large amounts of data to train the model on. Before the release of the HAM10000 dataset, the diversity and size of dermatoscopic images was limited, which also limited the progression of automated skin lesion detection (Tschandl et al. 2024). Binder et al.(1994) creates a model from a much smaller sample size and is limited in the diversity of skin lesions it can detect. As revealed by the 2018 ISIC challenge, automated healthcare diagnoses are still limited in accuracy and generalizability.\n",
    "\n",
    "In our project, we apply our knowledge of Convolutional Neural Networks (CNN) and other machine learning techniques to the HAM10000 dataset with the goal of classifying types of skin lesions. Accurate and early skin lesion diagnosis is crucial to a successful recovery when it comes to skin cancer.  Melanoma, a type of skin cancer, is quick to spread to other organs, and is the leading cause of deaths due to skin cancer. But when detected early enough, before the melanoma has a chance to spread, melanoma has a five-year survival rate of 98%. As seen in Figure 1, the majority of skin lesions in the HAM10000 dataset are melanocytic nevi (NV), and the second most common skin lesions are melanomas (MEL). **ABCDE!!!! include this from Fred Hutch!!!**\n",
    "\n",
    "We use CNN and logistic regression models to classify types of skin lesions identified in the HAM10000 dataset. Using the logistic regression models on non-image variables provided in the dataset, we achieve a testing accuracy of 68%. Including images when training the model does not significantly increase the accuracy rate. When using the CNN method, we apply class weights as the dataset is highly imbalance towards NV diagnoses. **This results in a model with 75% testing accuracy**. \n",
    "\n",
    "We also separate skin lesion types into 'malignant' and 'benign' categories. When training to classify more dangerous skin lesions from harmless skin lesions, we find an accuracy of **______** in out model.\n",
    "\n",
    "While the imbalanced dataset made the methods we used more difficult to train to achieve higher accuracy than baseline, we believe these models are generalizable as the majority of skin lesions are melanocytic nevi, which is reflected in the dataset. Additionally, our findings from malignant skin lesion identification reveal that **______**.\n",
    "\n",
    "Sources:\n",
    "https://www.fredhutch.org/en/patient-care/prevention/skin-cancer-early-detection.html\n",
    "\n",
    "https://www.nature.com/articles/sdata2018161 Tschandl\n",
    "\n",
    "https://onlinelibrary.wiley.com/doi/abs/10.1111/j.1365-2133.1994.tb03378.x Binder \n",
    "\n",
    "https://arxiv.org/abs/1902.03368 Codella\n",
    "\n",
    "https://dataverse.harvard.edu/dataset.xhtml?persistentId=doi:10.7910/DVN/DBW86T dataverse\n",
    "\n",
    "https://pubmed.ncbi.nlm.nih.gov/38426930/ Tandon\n",
    "\n",
    "https://www.mathworks.com/discovery/convolutional-neural-network.html CNN\n",
    "\n"
   ]
  },
  {
   "cell_type": "markdown",
   "metadata": {},
   "source": [
    "### Values Statement\n",
    "Your values statement should be a few paragraphs that address the following set of questions:\n",
    "\n",
    "Who are the potential users of your project? Who, other than your users, might still be affected by your project?\n",
    "Who benefits from technology that solves the problem you address?\n",
    "Who could be harmed from technology that solves the problem you well address?\n",
    "What is your personal reason for working on this problem?\n",
    "Based on your reflection, would the world be a more equitable, just, joyful, peaceful, or sustainable place based on the technology that you implemented?"
   ]
  },
  {
   "cell_type": "markdown",
   "metadata": {},
   "source": [
    "### Materials and Methods\n",
    "\n",
    "##### Data\n",
    "Include some discussion of where it came from, who collected it (include a citation), how it was collected, and what each row represents (a person, an environmental event, a body of text, etc) Please also include a discussion of potential limitations in the data: who or what is represented, and who or what isn’t?\n",
    "\n",
    "In structuring your description of the data, I encourage you to address many of the questions outlined in Gebru et al. (2021), although it is not necessary for you to write a complete data sheet for your data set.\n",
    "\n",
    "#### Figure 1: Frequency of Skin Lesion Categories\n",
    "![alt text](SkinCancer_TypeFrequency.png \"Skin Lesion Categories \")\n",
    "\n",
    "##### Approach\n",
    "This is the primary section where you should describe what you did. Carefully describe:\n",
    "\n",
    "What features of your data you used as predictors for your models, and what features (if any) you used as targets.\n",
    "Whether you subset your data in any way, and for what reasons.\n",
    "What model(s) you used trained on your data, and how you chose them.\n",
    "How you trained your models, and on what hardware.\n",
    "How you evaluated your models (loss, accuracy, etc), and the size of your test set.\n",
    "If you performed an audit for bias, how you approached this and what metrics you used."
   ]
  },
  {
   "cell_type": "markdown",
   "metadata": {},
   "source": [
    "### Results\n",
    "This is the section in which you describe the main findings or achievements of your model. You can report things like accuracies on train/test data, loss scores, comparisons to previous models, etc. To compare a small set of numbers, tables are fine, but more complex phenomena should be illustrated with figures. Both figures and tables should include appropriate captions, axis labels, legends, and another professional annotations. It’s fine for your figures to either be constructed manually or as computational outputs (e.g. from Pandas).\n",
    "\n",
    "Please remember: your results do not speak for themselves. While figures and tables are highly effective forms of communication, your prose is necessary to tell your story."
   ]
  },
  {
   "cell_type": "markdown",
   "metadata": {},
   "source": [
    "### Concluding Discussion\n",
    "Your conclusion is the right time to assess:\n",
    "\n",
    "In what ways did our project work?\n",
    "Did we meet the goals that we set at the beginning of the project?\n",
    "How do our results compare to the results of others who have also studied similar problems?\n",
    "If we had more time, data, or computational resources, what might we do differently in order to improve further?"
   ]
  },
  {
   "cell_type": "markdown",
   "metadata": {},
   "source": [
    "### Group Contribution Statement\n",
    "In your group contributions statement, please include a short paragraph for each group member describing how they contributed to the project:\n",
    "\n",
    "Who worked on which parts of the source code?\n",
    "Who performed or visualized which experiments?\n",
    "Who led the writing of which parts of the blog post?\n",
    "Etc."
   ]
  },
  {
   "cell_type": "markdown",
   "metadata": {},
   "source": [
    "### Personal Reflection\n",
    "At the very end of your blog post, in a few paragraphs, respond to the following questions:\n",
    "\n",
    "What did you learn from the process of researching, implementing, and communicating about your project?\n",
    "How do you feel about what you achieved? Did meet your initial goals? Did you exceed them or fall short? In what ways?\n",
    "In what ways will you carry the experience of working on this project into your next courses, career stages, or personal life?"
   ]
  },
  {
   "cell_type": "markdown",
   "metadata": {},
   "source": [
    "### Appendix (?)"
   ]
  }
 ],
 "metadata": {
  "language_info": {
   "name": "python"
  }
 },
 "nbformat": 4,
 "nbformat_minor": 2
}
